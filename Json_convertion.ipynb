{
 "cells": [
  {
   "cell_type": "code",
   "execution_count": 0,
   "metadata": {
    "application/vnd.databricks.v1+cell": {
     "cellMetadata": {},
     "inputWidgets": {},
     "nuid": "d883a731-cfe2-4be2-b8d2-fcabb0ef3091",
     "showTitle": false,
     "tableResultSettingsMap": {},
     "title": ""
    }
   },
   "outputs": [],
   "source": [
    "import json\n",
    "import pandas as pd"
   ]
  },
  {
   "cell_type": "code",
   "execution_count": 0,
   "metadata": {
    "application/vnd.databricks.v1+cell": {
     "cellMetadata": {},
     "inputWidgets": {},
     "nuid": "4808b957-809c-4a43-9603-75e076e09fe3",
     "showTitle": false,
     "tableResultSettingsMap": {},
     "title": ""
    }
   },
   "outputs": [],
   "source": [
    "# ---- CONFIG ----\n",
    "INPUT_JSON = \"drug-label-0001-of-0013.json\"\n",
    "OUTPUT_CSV = \"drug_labels_first_1000_complete.csv\"\n",
    "TARGET_COUNT = 1000\n",
    "\n",
    "# ---- LOAD JSON ----\n",
    "with open(INPUT_JSON, \"r\", encoding=\"utf-8\") as f:\n",
    "    data = json.load(f)\n",
    "\n",
    "results = data.get(\"results\", [])\n",
    "\n",
    "# ---- MANDATORY FIELDS ----\n",
    "required_openfda_fields = [\"brand_name\", \"generic_name\", \"manufacturer_name\", \"product_ndc\", \"route\"]\n",
    "required_root_fields = [\"id\", \"set_id\", \"active_ingredient\", \"warnings\", \"indications_and_usage\", \"purpose\"]\n",
    "\n",
    "# ---- EXTRACT RECORDS ----\n",
    "records = []\n",
    "for item in results:\n",
    "    openfda = item.get(\"openfda\", {})\n",
    "\n",
    "    # Check completeness\n",
    "    if not all(field in item for field in required_root_fields):\n",
    "        continue\n",
    "    if not all(field in openfda and openfda[field] for field in required_openfda_fields):\n",
    "        continue\n",
    "\n",
    "    # Build final row\n",
    "    entry = {\n",
    "        \"id\": item.get(\"id\"),\n",
    "        \"set_id\": item.get(\"set_id\"),\n",
    "        \"brand_name\": \", \".join(openfda.get(\"brand_name\", [])),\n",
    "        \"generic_name\": \", \".join(openfda.get(\"generic_name\", [])),\n",
    "        \"manufacturer_name\": \", \".join(openfda.get(\"manufacturer_name\", [])),\n",
    "        \"product_ndc\": \", \".join(openfda.get(\"product_ndc\", [])),\n",
    "        \"route\": \", \".join(openfda.get(\"route\", [])),\n",
    "        \"substance_name\": \", \".join(openfda.get(\"substance_name\", [])),\n",
    "        \"active_ingredient\": \", \".join(item.get(\"active_ingredient\", [])),\n",
    "        \"purpose\": \", \".join(item.get(\"purpose\", [])),\n",
    "        \"indications_and_usage\": \", \".join(item.get(\"indications_and_usage\", [])),\n",
    "        \"warnings\": \", \".join(item.get(\"warnings\", [])),\n",
    "        \"dosage_and_administration\": \", \".join(item.get(\"dosage_and_administration\", [])),\n",
    "        \"inactive_ingredient\": \", \".join(item.get(\"inactive_ingredient\", [])),\n",
    "        \"effective_time\": item.get(\"effective_time\"),\n",
    "        \"version\": item.get(\"version\"),\n",
    "    }\n",
    "\n",
    "    records.append(entry)\n",
    "\n",
    "    # Stop once we reach 1000 complete records\n",
    "    if len(records) == TARGET_COUNT:\n",
    "        break\n",
    "\n",
    "# ---- SAVE TO DATAFRAME ----\n",
    "df = pd.DataFrame(records)\n",
    "df.to_csv(OUTPUT_CSV, index=False)\n",
    "\n",
    "print(f\"✅ Completed! Extracted {len(df)} fully-complete drug records.\")\n",
    "print(f\"📌 Saved to: {OUTPUT_CSV}\")\n",
    "print(df.head())"
   ]
  }
 ],
 "metadata": {
  "application/vnd.databricks.v1+notebook": {
   "computePreferences": null,
   "dashboards": [],
   "environmentMetadata": null,
   "inputWidgetPreferences": null,
   "language": "python",
   "notebookMetadata": {},
   "notebookName": "Json_convertion",
   "widgets": {}
  },
  "kernelspec": {
   "display_name": "base",
   "language": "python",
   "name": "python3"
  },
  "language_info": {
   "name": "python"
  }
 },
 "nbformat": 4,
 "nbformat_minor": 0
}
